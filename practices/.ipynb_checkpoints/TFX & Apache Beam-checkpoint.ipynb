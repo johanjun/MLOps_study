{
 "cells": [
  {
   "cell_type": "code",
   "execution_count": 7,
   "metadata": {
    "ExecuteTime": {
     "end_time": "2021-11-17T07:48:05.266044Z",
     "start_time": "2021-11-17T07:48:05.003867Z"
    },
    "scrolled": true
   },
   "outputs": [
    {
     "name": "stdout",
     "output_type": "stream",
     "text": [
      "Python 3.8.5\r\n"
     ]
    }
   ],
   "source": [
    "!python -V"
   ]
  },
  {
   "cell_type": "code",
   "execution_count": 1,
   "metadata": {
    "ExecuteTime": {
     "end_time": "2021-11-12T07:02:19.852549Z",
     "start_time": "2021-11-12T06:58:27.939453Z"
    },
    "scrolled": true
   },
   "outputs": [
    {
     "name": "stdout",
     "output_type": "stream",
     "text": [
      "Collecting tfx==1.2.0\n",
      "  Downloading tfx-1.2.0-py3-none-any.whl (2.4 MB)\n",
      "\u001b[K     |████████████████████████████████| 2.4 MB 9.2 MB/s eta 0:00:01\n",
      "\u001b[?25hCollecting google-apitools<1,>=0.5\n",
      "  Downloading google_apitools-0.5.32-py3-none-any.whl (135 kB)\n",
      "\u001b[K     |████████████████████████████████| 135 kB 14.8 MB/s eta 0:00:01\n",
      "\u001b[?25hCollecting google-api-python-client<2,>=1.8\n",
      "  Downloading google_api_python_client-1.12.8-py2.py3-none-any.whl (61 kB)\n",
      "\u001b[K     |████████████████████████████████| 61 kB 92 kB/s s eta 0:00:01\n",
      "\u001b[?25hCollecting tensorflow-data-validation<1.3.0,>=1.2.0\n",
      "  Downloading tensorflow_data_validation-1.2.0-cp38-cp38-macosx_10_9_x86_64.whl (1.5 MB)\n",
      "\u001b[K     |████████████████████████████████| 1.5 MB 19.8 MB/s eta 0:00:01\n",
      "\u001b[?25hCollecting numpy<1.20,>=1.16\n",
      "  Using cached numpy-1.19.5-cp38-cp38-macosx_10_9_x86_64.whl (15.6 MB)\n",
      "Requirement already satisfied: jinja2<3,>=2.7.3 in /Users/johanjun/opt/anaconda3/lib/python3.8/site-packages (from tfx==1.2.0) (2.11.2)\n",
      "Requirement already satisfied: click<8,>=7 in /Users/johanjun/opt/anaconda3/lib/python3.8/site-packages (from tfx==1.2.0) (7.1.2)\n",
      "Requirement already satisfied: protobuf<4,>=3.13 in /Users/johanjun/opt/anaconda3/lib/python3.8/site-packages (from tfx==1.2.0) (3.15.3)\n",
      "Collecting portpicker<2,>=1.3.1\n",
      "  Downloading portpicker-1.5.0-py3-none-any.whl (14 kB)\n",
      "Collecting docker<5,>=4.1\n",
      "  Downloading docker-4.4.4-py2.py3-none-any.whl (147 kB)\n",
      "\u001b[K     |████████████████████████████████| 147 kB 23.8 MB/s eta 0:00:01\n",
      "\u001b[?25hCollecting tensorflow!=2.0.*,!=2.1.*,!=2.2.*,!=2.3.*,!=2.4.*,<2.6,>=1.15.2\n",
      "  Downloading tensorflow-2.5.2-cp38-cp38-macosx_10_14_x86_64.whl (195.8 MB)\n",
      "\u001b[K     |████████████████████████████████| 195.8 MB 68.3 MB/s eta 0:00:01   |██▊                             | 16.5 MB 59 kB/s eta 0:49:58     |████▉                           | 29.7 MB 106 kB/s eta 0:26:00     |██████                          | 36.3 MB 4.5 MB/s eta 0:00:36     |██████▏                         | 37.8 MB 4.5 MB/s eta 0:00:36     |██████▎                         | 38.3 MB 904 kB/s eta 0:02:55     |████████▉                       | 53.7 MB 79 kB/s eta 0:29:51     |█████████                       | 55.3 MB 447 kB/s eta 0:05:14     |████████████████▋               | 101.3 MB 285 kB/s eta 0:05:32          | 134.8 MB 60 kB/s eta 0:16:44████████████████████████████▏  | 178.7 MB 100 kB/s eta 0:02:50\n",
      "\u001b[?25hCollecting tensorflow-model-analysis<0.34,>=0.33\n",
      "  Downloading tensorflow_model_analysis-0.33.0-py3-none-any.whl (1.7 MB)\n",
      "\u001b[K     |████████████████████████████████| 1.7 MB 34.7 MB/s eta 0:00:01\n",
      "\u001b[?25hCollecting kubernetes<13,>=10.0.1\n",
      "  Downloading kubernetes-12.0.1-py2.py3-none-any.whl (1.7 MB)\n",
      "\u001b[K     |████████████████████████████████| 1.7 MB 438 kB/s eta 0:00:01\n",
      "\u001b[?25hCollecting tensorflow-serving-api!=2.0.*,!=2.1.*,!=2.2.*,!=2.3.*,!=2.4.*,<3,>=1.15\n",
      "  Downloading tensorflow_serving_api-2.7.0-py2.py3-none-any.whl (37 kB)\n",
      "Collecting tfx-bsl<1.3.0,>=1.2.0\n",
      "  Downloading tfx_bsl-1.2.0-cp38-cp38-macosx_10_9_x86_64.whl (20.3 MB)\n",
      "\u001b[K     |████████████████████████████████| 20.3 MB 592 kB/s eta 0:00:01\n",
      "\u001b[?25hRequirement already satisfied: grpcio<2,>=1.28.1 in /Users/johanjun/opt/anaconda3/lib/python3.8/site-packages (from tfx==1.2.0) (1.32.0)\n",
      "Collecting tensorflow-hub<0.13,>=0.9.0\n",
      "  Downloading tensorflow_hub-0.12.0-py2.py3-none-any.whl (108 kB)\n",
      "\u001b[K     |████████████████████████████████| 108 kB 869 kB/s eta 0:00:01\n",
      "\u001b[?25hRequirement already satisfied: absl-py<0.13,>=0.9 in /Users/johanjun/opt/anaconda3/lib/python3.8/site-packages (from tfx==1.2.0) (0.11.0)\n",
      "Requirement already satisfied: pyyaml<6,>=3.12 in /Users/johanjun/opt/anaconda3/lib/python3.8/site-packages (from tfx==1.2.0) (5.3.1)\n",
      "Collecting tensorflow-transform<1.3.0,>=1.2.0\n",
      "  Downloading tensorflow_transform-1.2.0-py3-none-any.whl (406 kB)\n",
      "\u001b[K     |████████████████████████████████| 406 kB 4.0 MB/s eta 0:00:01\n",
      "\u001b[?25hCollecting apache-beam[gcp]<3,>=2.31\n",
      "  Downloading apache_beam-2.34.0-cp38-cp38-macosx_10_9_x86_64.whl (4.3 MB)\n",
      "\u001b[K     |████████████████████████████████| 4.3 MB 447 kB/s eta 0:00:01\n",
      "\u001b[?25hCollecting ml-pipelines-sdk==1.2.0\n",
      "  Downloading ml_pipelines_sdk-1.2.0-py3-none-any.whl (1.2 MB)\n",
      "\u001b[K     |████████████████████████████████| 1.2 MB 16.3 MB/s eta 0:00:01\n",
      "\u001b[?25hCollecting attrs<21,>=19.3.0\n",
      "  Downloading attrs-20.3.0-py2.py3-none-any.whl (49 kB)\n",
      "\u001b[K     |████████████████████████████████| 49 kB 14.9 MB/s eta 0:00:01\n",
      "\u001b[?25hCollecting google-cloud-aiplatform<0.8,>=0.5.0\n",
      "  Downloading google_cloud_aiplatform-0.7.1-py2.py3-none-any.whl (1.3 MB)\n",
      "\u001b[K     |████████████████████████████████| 1.3 MB 8.7 MB/s eta 0:00:01\n",
      "\u001b[?25hCollecting pyarrow<3,>=1\n",
      "  Downloading pyarrow-2.0.0-cp38-cp38-macosx_10_13_x86_64.whl (13.4 MB)\n",
      "\u001b[K     |████████████████████████████████| 13.4 MB 425 kB/s eta 0:00:011\n",
      "\u001b[?25hRequirement already satisfied: packaging<21,>=20 in /Users/johanjun/opt/anaconda3/lib/python3.8/site-packages (from tfx==1.2.0) (20.4)\n",
      "Collecting ml-metadata<1.3.0,>=1.2.0\n",
      "  Downloading ml_metadata-1.2.0-cp38-cp38-macosx_10_9_x86_64.whl (18.9 MB)\n",
      "\u001b[K     |████████████████████████████████| 18.9 MB 120 kB/s eta 0:00:01\n",
      "\u001b[?25hCollecting keras-tuner<1.0.2,>=1\n",
      "  Downloading keras-tuner-1.0.1.tar.gz (54 kB)\n",
      "\u001b[K     |████████████████████████████████| 54 kB 6.5 MB/s  eta 0:00:01\n",
      "\u001b[?25hCollecting google-cloud-bigquery<2.21,>=1.28.0\n",
      "  Downloading google_cloud_bigquery-2.20.0-py2.py3-none-any.whl (189 kB)\n",
      "\u001b[K     |████████████████████████████████| 189 kB 12.5 MB/s eta 0:00:01\n",
      "\u001b[?25hRequirement already satisfied: six in /Users/johanjun/opt/anaconda3/lib/python3.8/site-packages (from absl-py<0.13,>=0.9->tfx==1.2.0) (1.15.0)\n",
      "Collecting httplib2<0.20.0,>=0.8\n",
      "  Downloading httplib2-0.19.1-py3-none-any.whl (95 kB)\n",
      "\u001b[K     |████████████████████████████████| 95 kB 5.2 MB/s  eta 0:00:01\n",
      "\u001b[?25hRequirement already satisfied: pytz>=2018.3 in /Users/johanjun/opt/anaconda3/lib/python3.8/site-packages (from apache-beam[gcp]<3,>=2.31->tfx==1.2.0) (2020.1)\n",
      "Requirement already satisfied: python-dateutil<3,>=2.8.0 in /Users/johanjun/opt/anaconda3/lib/python3.8/site-packages (from apache-beam[gcp]<3,>=2.31->tfx==1.2.0) (2.8.1)\n",
      "Collecting pydot<2,>=1.2.0\n",
      "  Downloading pydot-1.4.2-py2.py3-none-any.whl (21 kB)\n",
      "Collecting hdfs<3.0.0,>=2.1.0\n",
      "  Downloading hdfs-2.6.0-py3-none-any.whl (33 kB)\n",
      "Collecting oauth2client<5,>=2.0.1\n",
      "  Downloading oauth2client-4.1.3-py2.py3-none-any.whl (98 kB)\n",
      "\u001b[K     |████████████████████████████████| 98 kB 9.5 MB/s  eta 0:00:01\n",
      "\u001b[?25hRequirement already satisfied: future<1.0.0,>=0.18.2 in /Users/johanjun/opt/anaconda3/lib/python3.8/site-packages (from apache-beam[gcp]<3,>=2.31->tfx==1.2.0) (0.18.2)\n",
      "Collecting crcmod<2.0,>=1.7\n",
      "  Downloading crcmod-1.7.tar.gz (89 kB)\n",
      "\u001b[K     |████████████████████████████████| 89 kB 21.6 MB/s eta 0:00:01\n",
      "\u001b[?25hCollecting avro-python3!=1.9.2,<1.10.0,>=1.8.1\n",
      "  Downloading avro-python3-1.9.2.1.tar.gz (37 kB)\n",
      "Collecting fastavro<2,>=0.21.4\n",
      "  Downloading fastavro-1.4.7-cp38-cp38-macosx_10_14_x86_64.whl (485 kB)\n",
      "\u001b[K     |████████████████████████████████| 485 kB 3.1 MB/s eta 0:00:01\n",
      "\u001b[?25hCollecting pymongo<4.0.0,>=3.8.0\n",
      "  Downloading pymongo-3.12.1-cp38-cp38-macosx_10_9_x86_64.whl (395 kB)\n",
      "\u001b[K     |████████████████████████████████| 395 kB 31.7 MB/s eta 0:00:01\n",
      "\u001b[?25hCollecting dill<0.3.2,>=0.3.1.1\n",
      "  Downloading dill-0.3.1.1.tar.gz (151 kB)\n",
      "\u001b[K     |████████████████████████████████| 151 kB 25.7 MB/s eta 0:00:01\n",
      "\u001b[?25hCollecting orjson<4.0\n",
      "  Downloading orjson-3.6.4-cp38-cp38-macosx_10_9_x86_64.macosx_11_0_arm64.macosx_10_9_universal2.whl (444 kB)\n",
      "\u001b[K     |████████████████████████████████| 444 kB 149 kB/s eta 0:00:011\n",
      "\u001b[?25hRequirement already satisfied: requests<3.0.0,>=2.24.0 in /Users/johanjun/opt/anaconda3/lib/python3.8/site-packages (from apache-beam[gcp]<3,>=2.31->tfx==1.2.0) (2.24.0)\n",
      "Requirement already satisfied: typing-extensions<4,>=3.7.0 in /Users/johanjun/opt/anaconda3/lib/python3.8/site-packages (from apache-beam[gcp]<3,>=2.31->tfx==1.2.0) (3.7.4.3)\n",
      "Requirement already satisfied: cachetools<5,>=3.1.0 in /Users/johanjun/opt/anaconda3/lib/python3.8/site-packages (from apache-beam[gcp]<3,>=2.31->tfx==1.2.0) (4.2.1)\n",
      "Requirement already satisfied: google-auth<3,>=1.18.0 in /Users/johanjun/opt/anaconda3/lib/python3.8/site-packages (from apache-beam[gcp]<3,>=2.31->tfx==1.2.0) (1.27.0)\n"
     ]
    },
    {
     "name": "stdout",
     "output_type": "stream",
     "text": [
      "Collecting google-cloud-pubsub<2,>=0.39.0\n",
      "  Downloading google_cloud_pubsub-1.7.0-py2.py3-none-any.whl (144 kB)\n",
      "\u001b[K     |████████████████████████████████| 144 kB 208 kB/s eta 0:00:01\n",
      "\u001b[?25hCollecting google-cloud-vision<2,>=0.38.0\n",
      "  Downloading google_cloud_vision-1.0.0-py2.py3-none-any.whl (435 kB)\n",
      "\u001b[K     |████████████████████████████████| 435 kB 33 kB/s eta 0:00:011\n",
      "\u001b[?25hCollecting google-apitools<1,>=0.5\n",
      "  Downloading google-apitools-0.5.31.tar.gz (173 kB)\n",
      "\u001b[K     |████████████████████████████████| 173 kB 5.5 MB/s eta 0:00:01\n",
      "\u001b[?25hCollecting google-cloud-videointelligence<2,>=1.8.0\n",
      "  Downloading google_cloud_videointelligence-1.16.1-py2.py3-none-any.whl (183 kB)\n",
      "\u001b[K     |████████████████████████████████| 183 kB 8.0 MB/s eta 0:00:01\n",
      "\u001b[?25hCollecting google-cloud-language<2,>=1.3.0\n",
      "  Downloading google_cloud_language-1.3.0-py2.py3-none-any.whl (83 kB)\n",
      "\u001b[K     |████████████████████████████████| 83 kB 1.7 MB/s eta 0:00:011\n",
      "\u001b[?25hCollecting google-cloud-spanner<2,>=1.13.0\n",
      "  Downloading google_cloud_spanner-1.19.1-py2.py3-none-any.whl (255 kB)\n",
      "\u001b[K     |████████████████████████████████| 255 kB 4.1 MB/s eta 0:00:01\n",
      "\u001b[?25hCollecting grpcio-gcp<1,>=0.2.2\n",
      "  Downloading grpcio_gcp-0.2.2-py2.py3-none-any.whl (9.4 kB)\n",
      "Collecting google-cloud-datastore<2,>=1.8.0\n",
      "  Downloading google_cloud_datastore-1.15.3-py2.py3-none-any.whl (134 kB)\n",
      "\u001b[K     |████████████████████████████████| 134 kB 10.9 MB/s eta 0:00:01\n",
      "\u001b[?25hCollecting google-cloud-core<2,>=0.28.1\n",
      "  Downloading google_cloud_core-1.7.2-py2.py3-none-any.whl (28 kB)\n",
      "Collecting google-cloud-bigquery-storage>=2.6.3\n",
      "  Downloading google_cloud_bigquery_storage-2.10.0-py2.py3-none-any.whl (171 kB)\n",
      "\u001b[K     |████████████████████████████████| 171 kB 1.5 MB/s eta 0:00:01\n",
      "\u001b[?25hCollecting google-cloud-dlp<2,>=0.12.0\n",
      "  Downloading google_cloud_dlp-1.0.0-py2.py3-none-any.whl (169 kB)\n",
      "\u001b[K     |████████████████████████████████| 169 kB 7.0 MB/s eta 0:00:01\n",
      "\u001b[?25hCollecting google-cloud-bigtable<2,>=0.31.1\n",
      "  Downloading google_cloud_bigtable-1.7.0-py2.py3-none-any.whl (267 kB)\n",
      "\u001b[K     |████████████████████████████████| 267 kB 8.0 MB/s eta 0:00:01\n",
      "\u001b[?25hCollecting google-cloud-recommendations-ai<=0.2.0,>=0.1.0\n",
      "  Downloading google_cloud_recommendations_ai-0.2.0-py2.py3-none-any.whl (180 kB)\n",
      "\u001b[K     |████████████████████████████████| 180 kB 1.4 MB/s eta 0:00:01\n",
      "\u001b[?25hCollecting websocket-client>=0.32.0\n",
      "  Downloading websocket_client-1.2.1-py2.py3-none-any.whl (52 kB)\n",
      "\u001b[K     |████████████████████████████████| 52 kB 4.2 MB/s eta 0:00:011\n",
      "\u001b[?25hCollecting google-auth-httplib2>=0.0.3\n",
      "  Downloading google_auth_httplib2-0.1.0-py2.py3-none-any.whl (9.3 kB)\n",
      "Collecting uritemplate<4dev,>=3.0.0\n",
      "  Downloading uritemplate-3.0.1-py2.py3-none-any.whl (15 kB)\n",
      "Collecting google-api-core<2dev,>=1.21.0\n",
      "  Downloading google_api_core-1.31.4-py2.py3-none-any.whl (93 kB)\n",
      "\u001b[K     |████████████████████████████████| 93 kB 243 kB/s eta 0:00:011\n",
      "\u001b[?25hRequirement already satisfied: setuptools>=40.3.0 in /Users/johanjun/opt/anaconda3/lib/python3.8/site-packages (from google-api-core<2dev,>=1.21.0->google-api-python-client<2,>=1.8->tfx==1.2.0) (50.3.1.post20201107)\n",
      "Collecting googleapis-common-protos<2.0dev,>=1.6.0\n",
      "  Downloading googleapis_common_protos-1.53.0-py2.py3-none-any.whl (198 kB)\n",
      "\u001b[K     |████████████████████████████████| 198 kB 4.6 MB/s eta 0:00:01\n",
      "\u001b[?25hCollecting fasteners>=0.14\n",
      "  Downloading fasteners-0.16.3-py2.py3-none-any.whl (28 kB)\n",
      "Requirement already satisfied: rsa<5,>=3.1.4 in /Users/johanjun/opt/anaconda3/lib/python3.8/site-packages (from google-auth<3,>=1.18.0->apache-beam[gcp]<3,>=2.31->tfx==1.2.0) (4.7.2)\n",
      "Requirement already satisfied: pyasn1-modules>=0.2.1 in /Users/johanjun/opt/anaconda3/lib/python3.8/site-packages (from google-auth<3,>=1.18.0->apache-beam[gcp]<3,>=2.31->tfx==1.2.0) (0.2.8)\n",
      "Collecting google-cloud-storage<2.0.0dev,>=1.26.0\n",
      "  Downloading google_cloud_storage-1.42.3-py2.py3-none-any.whl (105 kB)\n",
      "\u001b[K     |████████████████████████████████| 105 kB 6.4 MB/s eta 0:00:01\n",
      "\u001b[?25hCollecting proto-plus>=1.10.1\n",
      "  Downloading proto_plus-1.19.8-py3-none-any.whl (45 kB)\n",
      "\u001b[K     |████████████████████████████████| 45 kB 1.3 MB/s eta 0:00:01\n",
      "\u001b[?25hCollecting google-resumable-media<2.0dev,>=0.6.0\n",
      "  Downloading google_resumable_media-1.3.3-py2.py3-none-any.whl (75 kB)\n",
      "\u001b[K     |████████████████████████████████| 75 kB 4.4 MB/s eta 0:00:01\n",
      "\u001b[?25hCollecting libcst>=0.2.5\n",
      "  Downloading libcst-0.3.21-py3-none-any.whl (514 kB)\n",
      "\u001b[K     |████████████████████████████████| 514 kB 71 kB/s eta 0:00:011\n",
      "\u001b[?25hCollecting grpc-google-iam-v1<0.13dev,>=0.12.3\n",
      "  Downloading grpc-google-iam-v1-0.12.3.tar.gz (13 kB)\n",
      "Collecting google-crc32c<2.0dev,>=1.0\n",
      "  Downloading google_crc32c-1.3.0-cp38-cp38-macosx_10_9_x86_64.whl (30 kB)\n",
      "Collecting docopt\n",
      "  Downloading docopt-0.6.2.tar.gz (25 kB)\n",
      "Requirement already satisfied: pyparsing<3,>=2.4.2 in /Users/johanjun/opt/anaconda3/lib/python3.8/site-packages (from httplib2<0.20.0,>=0.8->apache-beam[gcp]<3,>=2.31->tfx==1.2.0) (2.4.7)\n",
      "Requirement already satisfied: MarkupSafe>=0.23 in /Users/johanjun/opt/anaconda3/lib/python3.8/site-packages (from jinja2<3,>=2.7.3->tfx==1.2.0) (1.1.1)\n",
      "Collecting tabulate\n",
      "  Downloading tabulate-0.8.9-py3-none-any.whl (25 kB)\n",
      "Collecting terminaltables\n",
      "  Downloading terminaltables-3.1.0.tar.gz (12 kB)\n",
      "Requirement already satisfied: colorama in /Users/johanjun/opt/anaconda3/lib/python3.8/site-packages (from keras-tuner<1.0.2,>=1->tfx==1.2.0) (0.4.4)\n",
      "Requirement already satisfied: tqdm in /Users/johanjun/opt/anaconda3/lib/python3.8/site-packages (from keras-tuner<1.0.2,>=1->tfx==1.2.0) (4.50.2)\n",
      "Requirement already satisfied: scipy in /Users/johanjun/opt/anaconda3/lib/python3.8/site-packages (from keras-tuner<1.0.2,>=1->tfx==1.2.0) (1.5.2)\n",
      "Requirement already satisfied: scikit-learn in /Users/johanjun/opt/anaconda3/lib/python3.8/site-packages (from keras-tuner<1.0.2,>=1->tfx==1.2.0) (0.23.2)\n",
      "Requirement already satisfied: certifi>=14.05.14 in /Users/johanjun/opt/anaconda3/lib/python3.8/site-packages (from kubernetes<13,>=10.0.1->tfx==1.2.0) (2021.5.30)\n",
      "Requirement already satisfied: urllib3>=1.24.2 in /Users/johanjun/opt/anaconda3/lib/python3.8/site-packages (from kubernetes<13,>=10.0.1->tfx==1.2.0) (1.25.11)\n",
      "Requirement already satisfied: requests-oauthlib in /Users/johanjun/opt/anaconda3/lib/python3.8/site-packages (from kubernetes<13,>=10.0.1->tfx==1.2.0) (1.3.0)\n",
      "Collecting typing-inspect>=0.4.0\n",
      "  Downloading typing_inspect-0.7.1-py3-none-any.whl (8.4 kB)\n",
      "Requirement already satisfied: pyasn1>=0.1.7 in /Users/johanjun/opt/anaconda3/lib/python3.8/site-packages (from oauth2client<5,>=2.0.1->apache-beam[gcp]<3,>=2.31->tfx==1.2.0) (0.4.8)\n",
      "Requirement already satisfied: psutil in /Users/johanjun/opt/anaconda3/lib/python3.8/site-packages (from portpicker<2,>=1.3.1->tfx==1.2.0) (5.7.2)\n",
      "Collecting protobuf<4,>=3.13\n",
      "  Downloading protobuf-3.19.1-cp38-cp38-macosx_10_9_x86_64.whl (1.0 MB)\n",
      "\u001b[K     |████████████████████████████████| 1.0 MB 1.0 MB/s eta 0:00:01\n",
      "\u001b[?25hRequirement already satisfied: idna<3,>=2.5 in /Users/johanjun/opt/anaconda3/lib/python3.8/site-packages (from requests<3.0.0,>=2.24.0->apache-beam[gcp]<3,>=2.31->tfx==1.2.0) (2.10)\n",
      "Requirement already satisfied: chardet<4,>=3.0.2 in /Users/johanjun/opt/anaconda3/lib/python3.8/site-packages (from requests<3.0.0,>=2.24.0->apache-beam[gcp]<3,>=2.31->tfx==1.2.0) (3.0.4)\n",
      "Requirement already satisfied: termcolor~=1.1.0 in /Users/johanjun/opt/anaconda3/lib/python3.8/site-packages (from tensorflow!=2.0.*,!=2.1.*,!=2.2.*,!=2.3.*,!=2.4.*,<2.6,>=1.15.2->tfx==1.2.0) (1.1.0)\n",
      "Collecting keras-nightly~=2.5.0.dev\n",
      "  Using cached keras_nightly-2.5.0.dev2021032900-py2.py3-none-any.whl (1.2 MB)\n",
      "Collecting h5py~=3.1.0\n",
      "  Downloading h5py-3.1.0-cp38-cp38-macosx_10_9_x86_64.whl (2.9 MB)\n",
      "\u001b[K     |████████████████████████████████| 2.9 MB 481 kB/s eta 0:00:01\n",
      "\u001b[?25hCollecting grpcio<2,>=1.28.1\n",
      "  Downloading grpcio-1.34.1-cp38-cp38-macosx_10_10_x86_64.whl (3.7 MB)\n",
      "\u001b[K     |████████████████████████████████| 3.7 MB 116 kB/s eta 0:00:01\n",
      "\u001b[?25hCollecting tensorflow-estimator<2.6.0,>=2.5.0\n",
      "  Downloading tensorflow_estimator-2.5.0-py2.py3-none-any.whl (462 kB)\n",
      "\u001b[K     |████████████████████████████████| 462 kB 59.0 MB/s eta 0:00:01\n",
      "\u001b[?25hCollecting tensorboard~=2.5\n",
      "  Downloading tensorboard-2.7.0-py3-none-any.whl (5.8 MB)\n"
     ]
    },
    {
     "name": "stdout",
     "output_type": "stream",
     "text": [
      "\u001b[K     |████████████████████████████████| 5.8 MB 48.6 MB/s eta 0:00:01\n",
      "\u001b[?25hRequirement already satisfied: opt-einsum~=3.3.0 in /Users/johanjun/opt/anaconda3/lib/python3.8/site-packages (from tensorflow!=2.0.*,!=2.1.*,!=2.2.*,!=2.3.*,!=2.4.*,<2.6,>=1.15.2->tfx==1.2.0) (3.3.0)\n",
      "Requirement already satisfied: wheel~=0.35 in /Users/johanjun/opt/anaconda3/lib/python3.8/site-packages (from tensorflow!=2.0.*,!=2.1.*,!=2.2.*,!=2.3.*,!=2.4.*,<2.6,>=1.15.2->tfx==1.2.0) (0.35.1)\n",
      "Requirement already satisfied: google-pasta~=0.2 in /Users/johanjun/opt/anaconda3/lib/python3.8/site-packages (from tensorflow!=2.0.*,!=2.1.*,!=2.2.*,!=2.3.*,!=2.4.*,<2.6,>=1.15.2->tfx==1.2.0) (0.2.0)\n",
      "Collecting gast==0.4.0\n",
      "  Using cached gast-0.4.0-py3-none-any.whl (9.8 kB)\n",
      "Requirement already satisfied: astunparse~=1.6.3 in /Users/johanjun/opt/anaconda3/lib/python3.8/site-packages (from tensorflow!=2.0.*,!=2.1.*,!=2.2.*,!=2.3.*,!=2.4.*,<2.6,>=1.15.2->tfx==1.2.0) (1.6.3)\n",
      "Requirement already satisfied: wrapt~=1.12.1 in /Users/johanjun/opt/anaconda3/lib/python3.8/site-packages (from tensorflow!=2.0.*,!=2.1.*,!=2.2.*,!=2.3.*,!=2.4.*,<2.6,>=1.15.2->tfx==1.2.0) (1.12.1)\n",
      "Requirement already satisfied: flatbuffers~=1.12.0 in /Users/johanjun/opt/anaconda3/lib/python3.8/site-packages (from tensorflow!=2.0.*,!=2.1.*,!=2.2.*,!=2.3.*,!=2.4.*,<2.6,>=1.15.2->tfx==1.2.0) (1.12)\n",
      "Requirement already satisfied: keras-preprocessing~=1.1.2 in /Users/johanjun/opt/anaconda3/lib/python3.8/site-packages (from tensorflow!=2.0.*,!=2.1.*,!=2.2.*,!=2.3.*,!=2.4.*,<2.6,>=1.15.2->tfx==1.2.0) (1.1.2)\n",
      "Requirement already satisfied: tensorboard-plugin-wit>=1.6.0 in /Users/johanjun/opt/anaconda3/lib/python3.8/site-packages (from tensorboard~=2.5->tensorflow!=2.0.*,!=2.1.*,!=2.2.*,!=2.3.*,!=2.4.*,<2.6,>=1.15.2->tfx==1.2.0) (1.8.0)\n",
      "Collecting tensorboard-data-server<0.7.0,>=0.6.0\n",
      "  Using cached tensorboard_data_server-0.6.1-py3-none-macosx_10_9_x86_64.whl (3.5 MB)\n",
      "Requirement already satisfied: markdown>=2.6.8 in /Users/johanjun/opt/anaconda3/lib/python3.8/site-packages (from tensorboard~=2.5->tensorflow!=2.0.*,!=2.1.*,!=2.2.*,!=2.3.*,!=2.4.*,<2.6,>=1.15.2->tfx==1.2.0) (3.3.4)\n",
      "Requirement already satisfied: werkzeug>=0.11.15 in /Users/johanjun/opt/anaconda3/lib/python3.8/site-packages (from tensorboard~=2.5->tensorflow!=2.0.*,!=2.1.*,!=2.2.*,!=2.3.*,!=2.4.*,<2.6,>=1.15.2->tfx==1.2.0) (1.0.1)\n",
      "Requirement already satisfied: google-auth-oauthlib<0.5,>=0.4.1 in /Users/johanjun/opt/anaconda3/lib/python3.8/site-packages (from tensorboard~=2.5->tensorflow!=2.0.*,!=2.1.*,!=2.2.*,!=2.3.*,!=2.4.*,<2.6,>=1.15.2->tfx==1.2.0) (0.4.2)\n",
      "Requirement already satisfied: oauthlib>=3.0.0 in /Users/johanjun/opt/anaconda3/lib/python3.8/site-packages (from requests-oauthlib->kubernetes<13,>=10.0.1->tfx==1.2.0) (3.1.0)\n",
      "Collecting tensorflow-metadata<1.3,>=1.2\n",
      "  Downloading tensorflow_metadata-1.2.0-py3-none-any.whl (48 kB)\n",
      "\u001b[K     |████████████████████████████████| 48 kB 7.0 MB/s  eta 0:00:01\n",
      "\u001b[?25hRequirement already satisfied: pandas<2,>=1.0 in /Users/johanjun/opt/anaconda3/lib/python3.8/site-packages (from tensorflow-data-validation<1.3.0,>=1.2.0->tfx==1.2.0) (1.2.4)\n",
      "Collecting joblib<0.15,>=0.12\n",
      "  Downloading joblib-0.14.1-py2.py3-none-any.whl (294 kB)\n",
      "\u001b[K     |████████████████████████████████| 294 kB 54.0 MB/s eta 0:00:01\n",
      "\u001b[?25hRequirement already satisfied: ipython<8,>=7 in /Users/johanjun/opt/anaconda3/lib/python3.8/site-packages (from tensorflow-model-analysis<0.34,>=0.33->tfx==1.2.0) (7.19.0)\n",
      "Requirement already satisfied: ipywidgets<8,>=7 in /Users/johanjun/opt/anaconda3/lib/python3.8/site-packages (from tensorflow-model-analysis<0.34,>=0.33->tfx==1.2.0) (7.5.1)\n",
      "Requirement already satisfied: traitlets>=4.2 in /Users/johanjun/opt/anaconda3/lib/python3.8/site-packages (from ipython<8,>=7->tensorflow-model-analysis<0.34,>=0.33->tfx==1.2.0) (5.0.5)\n",
      "Requirement already satisfied: appnope in /Users/johanjun/opt/anaconda3/lib/python3.8/site-packages (from ipython<8,>=7->tensorflow-model-analysis<0.34,>=0.33->tfx==1.2.0) (0.1.0)\n",
      "Requirement already satisfied: pickleshare in /Users/johanjun/opt/anaconda3/lib/python3.8/site-packages (from ipython<8,>=7->tensorflow-model-analysis<0.34,>=0.33->tfx==1.2.0) (0.7.5)\n",
      "Requirement already satisfied: prompt-toolkit!=3.0.0,!=3.0.1,<3.1.0,>=2.0.0 in /Users/johanjun/opt/anaconda3/lib/python3.8/site-packages (from ipython<8,>=7->tensorflow-model-analysis<0.34,>=0.33->tfx==1.2.0) (3.0.8)\n",
      "Requirement already satisfied: decorator in /Users/johanjun/opt/anaconda3/lib/python3.8/site-packages (from ipython<8,>=7->tensorflow-model-analysis<0.34,>=0.33->tfx==1.2.0) (4.4.2)\n",
      "Requirement already satisfied: pygments in /Users/johanjun/opt/anaconda3/lib/python3.8/site-packages (from ipython<8,>=7->tensorflow-model-analysis<0.34,>=0.33->tfx==1.2.0) (2.7.2)\n",
      "Requirement already satisfied: jedi>=0.10 in /Users/johanjun/opt/anaconda3/lib/python3.8/site-packages (from ipython<8,>=7->tensorflow-model-analysis<0.34,>=0.33->tfx==1.2.0) (0.17.1)\n",
      "Requirement already satisfied: pexpect>4.3 in /Users/johanjun/opt/anaconda3/lib/python3.8/site-packages (from ipython<8,>=7->tensorflow-model-analysis<0.34,>=0.33->tfx==1.2.0) (4.8.0)\n",
      "Requirement already satisfied: backcall in /Users/johanjun/opt/anaconda3/lib/python3.8/site-packages (from ipython<8,>=7->tensorflow-model-analysis<0.34,>=0.33->tfx==1.2.0) (0.2.0)\n",
      "Requirement already satisfied: widgetsnbextension~=3.5.0 in /Users/johanjun/opt/anaconda3/lib/python3.8/site-packages (from ipywidgets<8,>=7->tensorflow-model-analysis<0.34,>=0.33->tfx==1.2.0) (3.5.1)\n",
      "Requirement already satisfied: ipykernel>=4.5.1 in /Users/johanjun/opt/anaconda3/lib/python3.8/site-packages (from ipywidgets<8,>=7->tensorflow-model-analysis<0.34,>=0.33->tfx==1.2.0) (5.3.4)\n",
      "Requirement already satisfied: nbformat>=4.2.0 in /Users/johanjun/opt/anaconda3/lib/python3.8/site-packages (from ipywidgets<8,>=7->tensorflow-model-analysis<0.34,>=0.33->tfx==1.2.0) (5.0.8)\n",
      "Requirement already satisfied: tornado>=4.2 in /Users/johanjun/opt/anaconda3/lib/python3.8/site-packages (from ipykernel>=4.5.1->ipywidgets<8,>=7->tensorflow-model-analysis<0.34,>=0.33->tfx==1.2.0) (6.1)\n",
      "Requirement already satisfied: jupyter-client in /Users/johanjun/opt/anaconda3/lib/python3.8/site-packages (from ipykernel>=4.5.1->ipywidgets<8,>=7->tensorflow-model-analysis<0.34,>=0.33->tfx==1.2.0) (6.1.7)\n",
      "Requirement already satisfied: parso<0.8.0,>=0.7.0 in /Users/johanjun/opt/anaconda3/lib/python3.8/site-packages (from jedi>=0.10->ipython<8,>=7->tensorflow-model-analysis<0.34,>=0.33->tfx==1.2.0) (0.7.0)\n",
      "Requirement already satisfied: ipython-genutils in /Users/johanjun/opt/anaconda3/lib/python3.8/site-packages (from nbformat>=4.2.0->ipywidgets<8,>=7->tensorflow-model-analysis<0.34,>=0.33->tfx==1.2.0) (0.2.0)\n",
      "Requirement already satisfied: jupyter-core in /Users/johanjun/opt/anaconda3/lib/python3.8/site-packages (from nbformat>=4.2.0->ipywidgets<8,>=7->tensorflow-model-analysis<0.34,>=0.33->tfx==1.2.0) (4.6.3)\n",
      "Requirement already satisfied: jsonschema!=2.5.0,>=2.4 in /Users/johanjun/opt/anaconda3/lib/python3.8/site-packages (from nbformat>=4.2.0->ipywidgets<8,>=7->tensorflow-model-analysis<0.34,>=0.33->tfx==1.2.0) (3.2.0)\n",
      "Requirement already satisfied: pyrsistent>=0.14.0 in /Users/johanjun/opt/anaconda3/lib/python3.8/site-packages (from jsonschema!=2.5.0,>=2.4->nbformat>=4.2.0->ipywidgets<8,>=7->tensorflow-model-analysis<0.34,>=0.33->tfx==1.2.0) (0.17.3)\n",
      "Requirement already satisfied: ptyprocess>=0.5 in /Users/johanjun/opt/anaconda3/lib/python3.8/site-packages (from pexpect>4.3->ipython<8,>=7->tensorflow-model-analysis<0.34,>=0.33->tfx==1.2.0) (0.6.0)\n",
      "Requirement already satisfied: wcwidth in /Users/johanjun/opt/anaconda3/lib/python3.8/site-packages (from prompt-toolkit!=3.0.0,!=3.0.1,<3.1.0,>=2.0.0->ipython<8,>=7->tensorflow-model-analysis<0.34,>=0.33->tfx==1.2.0) (0.2.5)\n",
      "Collecting tensorflow-serving-api!=2.0.*,!=2.1.*,!=2.2.*,!=2.3.*,!=2.4.*,<3,>=1.15\n",
      "  Downloading tensorflow_serving_api-2.6.2-py2.py3-none-any.whl (37 kB)\n",
      "  Downloading tensorflow_serving_api-2.6.1-py2.py3-none-any.whl (37 kB)\n",
      "  Downloading tensorflow_serving_api-2.6.0-py2.py3-none-any.whl (37 kB)\n",
      "  Downloading tensorflow_serving_api-2.5.3-py2.py3-none-any.whl (38 kB)\n",
      "Collecting mypy-extensions>=0.3.0\n",
      "  Downloading mypy_extensions-0.4.3-py2.py3-none-any.whl (4.5 kB)\n"
     ]
    },
    {
     "name": "stdout",
     "output_type": "stream",
     "text": [
      "Requirement already satisfied: notebook>=4.4.1 in /Users/johanjun/opt/anaconda3/lib/python3.8/site-packages (from widgetsnbextension~=3.5.0->ipywidgets<8,>=7->tensorflow-model-analysis<0.34,>=0.33->tfx==1.2.0) (6.4.0)\n",
      "Requirement already satisfied: terminado>=0.8.3 in /Users/johanjun/opt/anaconda3/lib/python3.8/site-packages (from notebook>=4.4.1->widgetsnbextension~=3.5.0->ipywidgets<8,>=7->tensorflow-model-analysis<0.34,>=0.33->tfx==1.2.0) (0.9.1)\n",
      "Requirement already satisfied: pyzmq>=17 in /Users/johanjun/opt/anaconda3/lib/python3.8/site-packages (from notebook>=4.4.1->widgetsnbextension~=3.5.0->ipywidgets<8,>=7->tensorflow-model-analysis<0.34,>=0.33->tfx==1.2.0) (19.0.2)\n",
      "Requirement already satisfied: Send2Trash>=1.5.0 in /Users/johanjun/opt/anaconda3/lib/python3.8/site-packages (from notebook>=4.4.1->widgetsnbextension~=3.5.0->ipywidgets<8,>=7->tensorflow-model-analysis<0.34,>=0.33->tfx==1.2.0) (1.5.0)\n",
      "Requirement already satisfied: argon2-cffi in /Users/johanjun/opt/anaconda3/lib/python3.8/site-packages (from notebook>=4.4.1->widgetsnbextension~=3.5.0->ipywidgets<8,>=7->tensorflow-model-analysis<0.34,>=0.33->tfx==1.2.0) (20.1.0)\n",
      "Requirement already satisfied: prometheus-client in /Users/johanjun/opt/anaconda3/lib/python3.8/site-packages (from notebook>=4.4.1->widgetsnbextension~=3.5.0->ipywidgets<8,>=7->tensorflow-model-analysis<0.34,>=0.33->tfx==1.2.0) (0.8.0)\n",
      "Requirement already satisfied: nbconvert in /Users/johanjun/opt/anaconda3/lib/python3.8/site-packages (from notebook>=4.4.1->widgetsnbextension~=3.5.0->ipywidgets<8,>=7->tensorflow-model-analysis<0.34,>=0.33->tfx==1.2.0) (6.0.7)\n",
      "Requirement already satisfied: cffi>=1.0.0 in /Users/johanjun/opt/anaconda3/lib/python3.8/site-packages (from argon2-cffi->notebook>=4.4.1->widgetsnbextension~=3.5.0->ipywidgets<8,>=7->tensorflow-model-analysis<0.34,>=0.33->tfx==1.2.0) (1.14.3)\n",
      "Requirement already satisfied: pycparser in /Users/johanjun/opt/anaconda3/lib/python3.8/site-packages (from cffi>=1.0.0->argon2-cffi->notebook>=4.4.1->widgetsnbextension~=3.5.0->ipywidgets<8,>=7->tensorflow-model-analysis<0.34,>=0.33->tfx==1.2.0) (2.20)\n",
      "Requirement already satisfied: nbclient<0.6.0,>=0.5.0 in /Users/johanjun/opt/anaconda3/lib/python3.8/site-packages (from nbconvert->notebook>=4.4.1->widgetsnbextension~=3.5.0->ipywidgets<8,>=7->tensorflow-model-analysis<0.34,>=0.33->tfx==1.2.0) (0.5.1)\n",
      "Requirement already satisfied: bleach in /Users/johanjun/opt/anaconda3/lib/python3.8/site-packages (from nbconvert->notebook>=4.4.1->widgetsnbextension~=3.5.0->ipywidgets<8,>=7->tensorflow-model-analysis<0.34,>=0.33->tfx==1.2.0) (3.2.1)\n",
      "Requirement already satisfied: defusedxml in /Users/johanjun/opt/anaconda3/lib/python3.8/site-packages (from nbconvert->notebook>=4.4.1->widgetsnbextension~=3.5.0->ipywidgets<8,>=7->tensorflow-model-analysis<0.34,>=0.33->tfx==1.2.0) (0.6.0)\n",
      "Requirement already satisfied: jupyterlab-pygments in /Users/johanjun/opt/anaconda3/lib/python3.8/site-packages (from nbconvert->notebook>=4.4.1->widgetsnbextension~=3.5.0->ipywidgets<8,>=7->tensorflow-model-analysis<0.34,>=0.33->tfx==1.2.0) (0.1.2)\n",
      "Requirement already satisfied: testpath in /Users/johanjun/opt/anaconda3/lib/python3.8/site-packages (from nbconvert->notebook>=4.4.1->widgetsnbextension~=3.5.0->ipywidgets<8,>=7->tensorflow-model-analysis<0.34,>=0.33->tfx==1.2.0) (0.4.4)\n",
      "Requirement already satisfied: entrypoints>=0.2.2 in /Users/johanjun/opt/anaconda3/lib/python3.8/site-packages (from nbconvert->notebook>=4.4.1->widgetsnbextension~=3.5.0->ipywidgets<8,>=7->tensorflow-model-analysis<0.34,>=0.33->tfx==1.2.0) (0.3)\n",
      "Requirement already satisfied: pandocfilters>=1.4.1 in /Users/johanjun/opt/anaconda3/lib/python3.8/site-packages (from nbconvert->notebook>=4.4.1->widgetsnbextension~=3.5.0->ipywidgets<8,>=7->tensorflow-model-analysis<0.34,>=0.33->tfx==1.2.0) (1.4.3)\n",
      "Requirement already satisfied: mistune<2,>=0.8.1 in /Users/johanjun/opt/anaconda3/lib/python3.8/site-packages (from nbconvert->notebook>=4.4.1->widgetsnbextension~=3.5.0->ipywidgets<8,>=7->tensorflow-model-analysis<0.34,>=0.33->tfx==1.2.0) (0.8.4)\n",
      "Requirement already satisfied: nest-asyncio in /Users/johanjun/opt/anaconda3/lib/python3.8/site-packages (from nbclient<0.6.0,>=0.5.0->nbconvert->notebook>=4.4.1->widgetsnbextension~=3.5.0->ipywidgets<8,>=7->tensorflow-model-analysis<0.34,>=0.33->tfx==1.2.0) (1.4.2)\n",
      "Requirement already satisfied: async-generator in /Users/johanjun/opt/anaconda3/lib/python3.8/site-packages (from nbclient<0.6.0,>=0.5.0->nbconvert->notebook>=4.4.1->widgetsnbextension~=3.5.0->ipywidgets<8,>=7->tensorflow-model-analysis<0.34,>=0.33->tfx==1.2.0) (1.10)\n",
      "Requirement already satisfied: webencodings in /Users/johanjun/opt/anaconda3/lib/python3.8/site-packages (from bleach->nbconvert->notebook>=4.4.1->widgetsnbextension~=3.5.0->ipywidgets<8,>=7->tensorflow-model-analysis<0.34,>=0.33->tfx==1.2.0) (0.5.1)\n",
      "Requirement already satisfied: threadpoolctl>=2.0.0 in /Users/johanjun/opt/anaconda3/lib/python3.8/site-packages (from scikit-learn->keras-tuner<1.0.2,>=1->tfx==1.2.0) (2.1.0)\n",
      "Building wheels for collected packages: avro-python3, crcmod, dill, google-apitools, grpc-google-iam-v1, keras-tuner, docopt, terminaltables\n",
      "  Building wheel for avro-python3 (setup.py) ... \u001b[?25ldone\n",
      "\u001b[?25h  Created wheel for avro-python3: filename=avro_python3-1.9.2.1-py3-none-any.whl size=43513 sha256=e668bc72871207125eec8b83e1ea36e0b5c817e456d5a5beae84bea3228f0254\n",
      "  Stored in directory: /Users/johanjun/Library/Caches/pip/wheels/a5/f2/87/b7c4b9d5915716d94e8bf2e2f3bfbbd73bb5fe2a98677a59cb\n",
      "  Building wheel for crcmod (setup.py) ... \u001b[?25ldone\n",
      "\u001b[?25h  Created wheel for crcmod: filename=crcmod-1.7-cp38-cp38-macosx_10_9_x86_64.whl size=22324 sha256=2f53583f1fd67f904c4d90c405a17810518cd2d820fd57193e43cae7d4d2d7a7\n",
      "  Stored in directory: /Users/johanjun/Library/Caches/pip/wheels/ca/5a/02/f3acf982a026f3319fb3e798a8dca2d48fafee7761788562e9\n",
      "  Building wheel for dill (setup.py) ... \u001b[?25ldone\n",
      "\u001b[?25h  Created wheel for dill: filename=dill-0.3.1.1-py3-none-any.whl size=78532 sha256=429738caf57e8ab5850f0d72f4a9882a0f2d0a5c1dd049aa2609f6d0e390568e\n",
      "  Stored in directory: /Users/johanjun/Library/Caches/pip/wheels/07/35/78/e9004fa30578734db7f10e7a211605f3f0778d2bdde38a239d\n",
      "  Building wheel for google-apitools (setup.py) ... \u001b[?25ldone\n",
      "\u001b[?25h  Created wheel for google-apitools: filename=google_apitools-0.5.31-py3-none-any.whl size=131041 sha256=232e32e3d9a6e856116cbd6d453b6662690d12b4229b31fb167c08d326ea07f9\n",
      "  Stored in directory: /Users/johanjun/Library/Caches/pip/wheels/d7/54/79/85de1824f2f4175fb4960c72afb10045d86700c3941dc73685\n",
      "  Building wheel for grpc-google-iam-v1 (setup.py) ... \u001b[?25ldone\n",
      "\u001b[?25h  Created wheel for grpc-google-iam-v1: filename=grpc_google_iam_v1-0.12.3-py3-none-any.whl size=18501 sha256=15f7f69f7f5d06fad13f3a5e0e7a57243790d560a155527c41d6ef94dfdbc2e7\n",
      "  Stored in directory: /Users/johanjun/Library/Caches/pip/wheels/8f/b9/13/fce3d62261f63c01b28281fe6a9d704a7af65d96ff2c88552e\n",
      "  Building wheel for keras-tuner (setup.py) ... \u001b[?25ldone\n",
      "\u001b[?25h  Created wheel for keras-tuner: filename=keras_tuner-1.0.1-py3-none-any.whl size=73198 sha256=473cc227a4bd309dddea7aefce0748dada3472f0a2df07a858352f23226fb3d5\n",
      "  Stored in directory: /Users/johanjun/Library/Caches/pip/wheels/62/84/96/51c62791835c5185b9f66e915e19ae7c20f3d8c40443b3e9fa\n",
      "  Building wheel for docopt (setup.py) ... \u001b[?25ldone\n",
      "\u001b[?25h  Created wheel for docopt: filename=docopt-0.6.2-py2.py3-none-any.whl size=13704 sha256=de2268b30d26265bc5d378c38043134edd4d39a57ab6071b0af794f705e5db61\n",
      "  Stored in directory: /Users/johanjun/Library/Caches/pip/wheels/56/ea/58/ead137b087d9e326852a851351d1debf4ada529b6ac0ec4e8c\n",
      "  Building wheel for terminaltables (setup.py) ... \u001b[?25ldone\n",
      "\u001b[?25h  Created wheel for terminaltables: filename=terminaltables-3.1.0-py3-none-any.whl size=15354 sha256=d00ce140f04f738d1220585cd310f9fea7c75e999c8d1804e874b76aaf36e5c4\n",
      "  Stored in directory: /Users/johanjun/Library/Caches/pip/wheels/08/8f/5f/253d0105a55bd84ee61ef0d37dbf70421e61e0cd70cef7c5e1\n",
      "Successfully built avro-python3 crcmod dill google-apitools grpc-google-iam-v1 keras-tuner docopt terminaltables\n",
      "Installing collected packages: attrs, protobuf, mypy-extensions, grpcio, googleapis-common-protos, typing-inspect, tensorboard-data-server, numpy, httplib2, grpcio-gcp, google-crc32c, google-api-core, docopt, tensorflow-estimator, tensorboard, pymongo, pydot, pyarrow, proto-plus, orjson, oauth2client, libcst, keras-nightly, hdfs, h5py, grpc-google-iam-v1, google-resumable-media, google-cloud-core, gast, fasteners, fastavro, dill, crcmod, avro-python3, uritemplate, tensorflow, google-cloud-vision, google-cloud-videointelligence, google-cloud-spanner, google-cloud-recommendations-ai, google-cloud-pubsub, google-cloud-language, google-cloud-dlp, google-cloud-datastore, google-cloud-bigtable, google-cloud-bigquery-storage, google-cloud-bigquery, google-auth-httplib2, google-apitools, apache-beam, websocket-client, tensorflow-serving-api, tensorflow-metadata, joblib, google-api-python-client, tfx-bsl, terminaltables, tabulate, portpicker, ml-metadata, google-cloud-storage, docker, tensorflow-transform, tensorflow-model-analysis, tensorflow-hub, tensorflow-data-validation, ml-pipelines-sdk, kubernetes, keras-tuner, google-cloud-aiplatform, tfx\n",
      "  Attempting uninstall: attrs\n",
      "    Found existing installation: attrs 21.2.0\n",
      "    Uninstalling attrs-21.2.0:\n",
      "      Successfully uninstalled attrs-21.2.0\n"
     ]
    },
    {
     "name": "stdout",
     "output_type": "stream",
     "text": [
      "  Attempting uninstall: protobuf\n",
      "    Found existing installation: protobuf 3.15.3\n",
      "    Uninstalling protobuf-3.15.3:\n",
      "      Successfully uninstalled protobuf-3.15.3\n",
      "  Attempting uninstall: grpcio\n",
      "    Found existing installation: grpcio 1.32.0\n",
      "    Uninstalling grpcio-1.32.0:\n",
      "      Successfully uninstalled grpcio-1.32.0\n",
      "  Attempting uninstall: numpy\n",
      "    Found existing installation: numpy 1.20.3\n",
      "    Uninstalling numpy-1.20.3:\n",
      "      Successfully uninstalled numpy-1.20.3\n",
      "  Attempting uninstall: tensorflow-estimator\n",
      "    Found existing installation: tensorflow-estimator 2.4.0\n",
      "    Uninstalling tensorflow-estimator-2.4.0:\n",
      "      Successfully uninstalled tensorflow-estimator-2.4.0\n",
      "  Attempting uninstall: tensorboard\n",
      "    Found existing installation: tensorboard 2.4.1\n",
      "    Uninstalling tensorboard-2.4.1:\n",
      "      Successfully uninstalled tensorboard-2.4.1\n",
      "  Attempting uninstall: pyarrow\n",
      "    Found existing installation: pyarrow 3.0.0\n",
      "    Uninstalling pyarrow-3.0.0:\n",
      "      Successfully uninstalled pyarrow-3.0.0\n",
      "  Attempting uninstall: h5py\n",
      "    Found existing installation: h5py 2.10.0\n",
      "    Uninstalling h5py-2.10.0:\n",
      "      Successfully uninstalled h5py-2.10.0\n",
      "  Attempting uninstall: gast\n",
      "    Found existing installation: gast 0.3.3\n",
      "    Uninstalling gast-0.3.3:\n",
      "      Successfully uninstalled gast-0.3.3\n",
      "  Attempting uninstall: tensorflow\n",
      "    Found existing installation: tensorflow 2.4.1\n",
      "    Uninstalling tensorflow-2.4.1:\n",
      "      Successfully uninstalled tensorflow-2.4.1\n",
      "  Attempting uninstall: joblib\n",
      "    Found existing installation: joblib 0.17.0\n",
      "    Uninstalling joblib-0.17.0:\n",
      "      Successfully uninstalled joblib-0.17.0\n",
      "\u001b[31mERROR: pip's dependency resolver does not currently take into account all the packages that are installed. This behaviour is the source of the following dependency conflicts.\n",
      "pyldavis 3.3.1 requires numpy>=1.20.0, but you have numpy 1.19.5 which is incompatible.\n",
      "pmdarima 1.8.0 requires Cython<0.29.18,>=0.29, but you have cython 0.29.23 which is incompatible.\n",
      "konlpy 0.5.2 requires beautifulsoup4==4.6.0, but you have beautifulsoup4 4.9.3 which is incompatible.\n",
      "codaio 0.6.5 requires attrs<20.0,>=19.1, but you have attrs 20.3.0 which is incompatible.\u001b[0m\n",
      "Successfully installed apache-beam-2.34.0 attrs-20.3.0 avro-python3-1.9.2.1 crcmod-1.7 dill-0.3.1.1 docker-4.4.4 docopt-0.6.2 fastavro-1.4.7 fasteners-0.16.3 gast-0.4.0 google-api-core-1.31.4 google-api-python-client-1.12.8 google-apitools-0.5.31 google-auth-httplib2-0.1.0 google-cloud-aiplatform-0.7.1 google-cloud-bigquery-2.20.0 google-cloud-bigquery-storage-2.10.0 google-cloud-bigtable-1.7.0 google-cloud-core-1.7.2 google-cloud-datastore-1.15.3 google-cloud-dlp-1.0.0 google-cloud-language-1.3.0 google-cloud-pubsub-1.7.0 google-cloud-recommendations-ai-0.2.0 google-cloud-spanner-1.19.1 google-cloud-storage-1.42.3 google-cloud-videointelligence-1.16.1 google-cloud-vision-1.0.0 google-crc32c-1.3.0 google-resumable-media-1.3.3 googleapis-common-protos-1.53.0 grpc-google-iam-v1-0.12.3 grpcio-1.34.1 grpcio-gcp-0.2.2 h5py-3.1.0 hdfs-2.6.0 httplib2-0.19.1 joblib-0.14.1 keras-nightly-2.5.0.dev2021032900 keras-tuner-1.0.1 kubernetes-12.0.1 libcst-0.3.21 ml-metadata-1.2.0 ml-pipelines-sdk-1.2.0 mypy-extensions-0.4.3 numpy-1.19.5 oauth2client-4.1.3 orjson-3.6.4 portpicker-1.5.0 proto-plus-1.19.8 protobuf-3.19.1 pyarrow-2.0.0 pydot-1.4.2 pymongo-3.12.1 tabulate-0.8.9 tensorboard-2.7.0 tensorboard-data-server-0.6.1 tensorflow-2.5.2 tensorflow-data-validation-1.2.0 tensorflow-estimator-2.5.0 tensorflow-hub-0.12.0 tensorflow-metadata-1.2.0 tensorflow-model-analysis-0.33.0 tensorflow-serving-api-2.5.3 tensorflow-transform-1.2.0 terminaltables-3.1.0 tfx-1.2.0 tfx-bsl-1.2.0 typing-inspect-0.7.1 uritemplate-3.0.1 websocket-client-1.2.1\n"
     ]
    }
   ],
   "source": [
    "!pip install tfx==1.2.0"
   ]
  },
  {
   "cell_type": "code",
   "execution_count": 1,
   "metadata": {
    "ExecuteTime": {
     "end_time": "2021-11-17T01:12:48.105808Z",
     "start_time": "2021-11-17T01:12:30.693950Z"
    }
   },
   "outputs": [],
   "source": [
    "import tensorflow_data_validation as tfdv"
   ]
  },
  {
   "cell_type": "code",
   "execution_count": 2,
   "metadata": {
    "ExecuteTime": {
     "end_time": "2021-11-17T01:12:53.808319Z",
     "start_time": "2021-11-17T01:12:50.212250Z"
    }
   },
   "outputs": [],
   "source": [
    "from tfx.components import ExampleValidator"
   ]
  },
  {
   "cell_type": "markdown",
   "metadata": {},
   "source": [
    "# 대화형 파이프라인"
   ]
  },
  {
   "cell_type": "code",
   "execution_count": 1,
   "metadata": {
    "ExecuteTime": {
     "end_time": "2021-11-19T04:33:43.536734Z",
     "start_time": "2021-11-19T04:33:17.044838Z"
    },
    "scrolled": false
   },
   "outputs": [
    {
     "name": "stderr",
     "output_type": "stream",
     "text": [
      "WARNING:absl:InteractiveContext pipeline_root argument not provided: using temporary directory /var/folders/8x/m76cd7zx24x2ph3x8k2b2r280000gn/T/tfx-interactive-2021-11-19T13_33_30.594666-0f5aidaq as root for pipeline outputs.\n",
      "WARNING:absl:InteractiveContext metadata_connection_config not provided: using SQLite ML Metadata database at /var/folders/8x/m76cd7zx24x2ph3x8k2b2r280000gn/T/tfx-interactive-2021-11-19T13_33_30.594666-0f5aidaq/metadata.sqlite.\n",
      "WARNING:apache_beam.runners.interactive.interactive_environment:Dependencies required for Interactive Beam PCollection visualization are not available, please use: `pip install apache-beam[interactive]` to install necessary dependencies to enable all data visualization features.\n"
     ]
    },
    {
     "data": {
      "application/javascript": [
       "\n",
       "        if (typeof window.interactive_beam_jquery == 'undefined') {\n",
       "          var jqueryScript = document.createElement('script');\n",
       "          jqueryScript.src = 'https://code.jquery.com/jquery-3.4.1.slim.min.js';\n",
       "          jqueryScript.type = 'text/javascript';\n",
       "          jqueryScript.onload = function() {\n",
       "            var datatableScript = document.createElement('script');\n",
       "            datatableScript.src = 'https://cdn.datatables.net/1.10.20/js/jquery.dataTables.min.js';\n",
       "            datatableScript.type = 'text/javascript';\n",
       "            datatableScript.onload = function() {\n",
       "              window.interactive_beam_jquery = jQuery.noConflict(true);\n",
       "              window.interactive_beam_jquery(document).ready(function($){\n",
       "                \n",
       "              });\n",
       "            }\n",
       "            document.head.appendChild(datatableScript);\n",
       "          };\n",
       "          document.head.appendChild(jqueryScript);\n",
       "        } else {\n",
       "          window.interactive_beam_jquery(document).ready(function($){\n",
       "            \n",
       "          });\n",
       "        }"
      ]
     },
     "metadata": {},
     "output_type": "display_data"
    },
    {
     "name": "stderr",
     "output_type": "stream",
     "text": [
      "WARNING:root:Make sure that locally built Python SDK docker image has Python 3.8 interpreter.\n",
      "WARNING:apache_beam.io.tfrecordio:Couldn't find python-snappy so the implementation of _TFRecordUtil._masked_crc32c is not as fast as it could be.\n",
      "WARNING:root:Make sure that locally built Python SDK docker image has Python 3.8 interpreter.\n"
     ]
    },
    {
     "data": {
      "text/html": [
       "<b>Artifact at /var/folders/8x/m76cd7zx24x2ph3x8k2b2r280000gn/T/tfx-interactive-2021-11-19T13_33_30.594666-0f5aidaq/StatisticsGen/statistics/2</b><br/><br/>"
      ],
      "text/plain": [
       "<IPython.core.display.HTML object>"
      ]
     },
     "metadata": {},
     "output_type": "display_data"
    },
    {
     "data": {
      "text/html": [
       "<div><b>'train' split:</b></div><br/>"
      ],
      "text/plain": [
       "<IPython.core.display.HTML object>"
      ]
     },
     "metadata": {},
     "output_type": "display_data"
    },
    {
     "data": {
      "text/html": [
       "<iframe id='facets-iframe' width=\"100%\" height=\"500px\"></iframe>\n",
       "        <script>\n",
       "        facets_iframe = document.getElementById('facets-iframe');\n",
       "        facets_html = '<script src=\"https://cdnjs.cloudflare.com/ajax/libs/webcomponentsjs/1.3.3/webcomponents-lite.js\"><\\/script><link rel=\"import\" href=\"https://raw.githubusercontent.com/PAIR-code/facets/master/facets-dist/facets-jupyter.html\"><facets-overview proto-input=\"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\"></facets-overview>';\n",
       "        facets_iframe.srcdoc = facets_html;\n",
       "         facets_iframe.id = \"\";\n",
       "         setTimeout(() => {\n",
       "           facets_iframe.setAttribute('height', facets_iframe.contentWindow.document.body.offsetHeight + 'px')\n",
       "         }, 1500)\n",
       "         </script>"
      ],
      "text/plain": [
       "<IPython.core.display.HTML object>"
      ]
     },
     "metadata": {},
     "output_type": "display_data"
    },
    {
     "data": {
      "text/html": [
       "<div><b>'eval' split:</b></div><br/>"
      ],
      "text/plain": [
       "<IPython.core.display.HTML object>"
      ]
     },
     "metadata": {},
     "output_type": "display_data"
    },
    {
     "data": {
      "text/html": [
       "<iframe id='facets-iframe' width=\"100%\" height=\"500px\"></iframe>\n",
       "        <script>\n",
       "        facets_iframe = document.getElementById('facets-iframe');\n",
       "        facets_html = '<script src=\"https://cdnjs.cloudflare.com/ajax/libs/webcomponentsjs/1.3.3/webcomponents-lite.js\"><\\/script><link rel=\"import\" href=\"https://raw.githubusercontent.com/PAIR-code/facets/master/facets-dist/facets-jupyter.html\"><facets-overview proto-input=\"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\"></facets-overview>';\n",
       "        facets_iframe.srcdoc = facets_html;\n",
       "         facets_iframe.id = \"\";\n",
       "         setTimeout(() => {\n",
       "           facets_iframe.setAttribute('height', facets_iframe.contentWindow.document.body.offsetHeight + 'px')\n",
       "         }, 1500)\n",
       "         </script>"
      ],
      "text/plain": [
       "<IPython.core.display.HTML object>"
      ]
     },
     "metadata": {},
     "output_type": "display_data"
    },
    {
     "name": "stdout",
     "output_type": "stream",
     "text": [
      "/var/folders/8x/m76cd7zx24x2ph3x8k2b2r280000gn/T/tfx-interactive-2021-11-19T13_33_30.594666-0f5aidaq/StatisticsGen/statistics/2\n"
     ]
    }
   ],
   "source": [
    "import os\n",
    "\n",
    "from pathlib import Path\n",
    "\n",
    "import tfx\n",
    "from tfx. components import StatisticsGen\n",
    "import tensorflow as tf\n",
    "from tfx.orchestration.experimental.interactive.interactive_context import InteractiveContext\n",
    "\n",
    "context = InteractiveContext()\n",
    "\n",
    "DATA_PATH = 'https://raw.githubusercontent.com/tensorflow/tfx/master/tfx/examples/chicago_taxi_pipeline/data/simple/data.csv'\n",
    "\n",
    "dir_path = Path().parent.absolute()\n",
    "data_dir = os.path.join(dir_path, \"..\", \"..\", \"data\", \"taxi\")\n",
    "\n",
    "Path(data_dir).mkdir(parents=True, exist_ok=True)\n",
    "\n",
    "# 웹 상에서 원시 데이터를 다운 받습니다.\n",
    "filepath = tf.keras.utils.get_file(\n",
    "    os.path.join(data_dir, \"data.csv\"),\n",
    "    DATA_PATH)\n",
    "\n",
    "\n",
    "example_gen = tfx.components.CsvExampleGen(input_base=data_dir)\n",
    "context.run(example_gen)\n",
    "\n",
    "statistics_gen = StatisticsGen(\n",
    "    examples=example_gen.outputs['examples'])\n",
    "context.run(statistics_gen)\n",
    "\n",
    "context.show(statistics_gen.outputs['statistics'])\n",
    "\n",
    "statistics_gen = StatisticsGen(\n",
    "    examples=example_gen.outputs['examples'])\n",
    "context.run(statistics_gen)\n",
    "\n",
    "for artifact in statistics_gen.outputs['statistics'].get():\n",
    "    print(artifact.uri)"
   ]
  },
  {
   "cell_type": "code",
   "execution_count": 4,
   "metadata": {
    "ExecuteTime": {
     "end_time": "2021-11-17T01:25:22.047400Z",
     "start_time": "2021-11-17T01:25:15.515511Z"
    },
    "collapsed": true
   },
   "outputs": [
    {
     "name": "stdout",
     "output_type": "stream",
     "text": [
      "Requirement already satisfied: apache-beam in /Users/johanjun/opt/anaconda3/lib/python3.8/site-packages (2.34.0)\n",
      "Requirement already satisfied: avro-python3!=1.9.2,<1.10.0,>=1.8.1 in /Users/johanjun/opt/anaconda3/lib/python3.8/site-packages (from apache-beam) (1.9.2.1)\n",
      "Requirement already satisfied: requests<3.0.0,>=2.24.0 in /Users/johanjun/opt/anaconda3/lib/python3.8/site-packages (from apache-beam) (2.24.0)\n",
      "Requirement already satisfied: orjson<4.0 in /Users/johanjun/opt/anaconda3/lib/python3.8/site-packages (from apache-beam) (3.6.4)\n",
      "Requirement already satisfied: protobuf<4,>=3.12.2 in /Users/johanjun/opt/anaconda3/lib/python3.8/site-packages (from apache-beam) (3.19.1)\n",
      "Requirement already satisfied: python-dateutil<3,>=2.8.0 in /Users/johanjun/opt/anaconda3/lib/python3.8/site-packages (from apache-beam) (2.8.1)\n",
      "Requirement already satisfied: grpcio<2,>=1.29.0 in /Users/johanjun/opt/anaconda3/lib/python3.8/site-packages (from apache-beam) (1.34.1)\n",
      "Requirement already satisfied: pyarrow<6.0.0,>=0.15.1 in /Users/johanjun/opt/anaconda3/lib/python3.8/site-packages (from apache-beam) (2.0.0)\n",
      "Requirement already satisfied: fastavro<2,>=0.21.4 in /Users/johanjun/opt/anaconda3/lib/python3.8/site-packages (from apache-beam) (1.4.7)\n",
      "Requirement already satisfied: hdfs<3.0.0,>=2.1.0 in /Users/johanjun/opt/anaconda3/lib/python3.8/site-packages (from apache-beam) (2.6.0)\n",
      "Requirement already satisfied: oauth2client<5,>=2.0.1 in /Users/johanjun/opt/anaconda3/lib/python3.8/site-packages (from apache-beam) (4.1.3)\n",
      "Requirement already satisfied: typing-extensions<4,>=3.7.0 in /Users/johanjun/opt/anaconda3/lib/python3.8/site-packages (from apache-beam) (3.7.4.3)\n",
      "Requirement already satisfied: future<1.0.0,>=0.18.2 in /Users/johanjun/opt/anaconda3/lib/python3.8/site-packages (from apache-beam) (0.18.2)\n",
      "Requirement already satisfied: dill<0.3.2,>=0.3.1.1 in /Users/johanjun/opt/anaconda3/lib/python3.8/site-packages (from apache-beam) (0.3.1.1)\n",
      "Requirement already satisfied: pymongo<4.0.0,>=3.8.0 in /Users/johanjun/opt/anaconda3/lib/python3.8/site-packages (from apache-beam) (3.12.1)\n",
      "Requirement already satisfied: pytz>=2018.3 in /Users/johanjun/opt/anaconda3/lib/python3.8/site-packages (from apache-beam) (2020.1)\n",
      "Requirement already satisfied: crcmod<2.0,>=1.7 in /Users/johanjun/opt/anaconda3/lib/python3.8/site-packages (from apache-beam) (1.7)\n",
      "Requirement already satisfied: httplib2<0.20.0,>=0.8 in /Users/johanjun/opt/anaconda3/lib/python3.8/site-packages (from apache-beam) (0.19.1)\n",
      "Requirement already satisfied: numpy<1.21.0,>=1.14.3 in /Users/johanjun/opt/anaconda3/lib/python3.8/site-packages (from apache-beam) (1.19.5)\n",
      "Requirement already satisfied: pydot<2,>=1.2.0 in /Users/johanjun/opt/anaconda3/lib/python3.8/site-packages (from apache-beam) (1.4.2)\n",
      "Requirement already satisfied: six>=1.5.2 in /Users/johanjun/opt/anaconda3/lib/python3.8/site-packages (from grpcio<2,>=1.29.0->apache-beam) (1.15.0)\n",
      "Requirement already satisfied: docopt in /Users/johanjun/opt/anaconda3/lib/python3.8/site-packages (from hdfs<3.0.0,>=2.1.0->apache-beam) (0.6.2)\n",
      "Requirement already satisfied: pyparsing<3,>=2.4.2 in /Users/johanjun/opt/anaconda3/lib/python3.8/site-packages (from httplib2<0.20.0,>=0.8->apache-beam) (2.4.7)\n",
      "Requirement already satisfied: pyasn1>=0.1.7 in /Users/johanjun/opt/anaconda3/lib/python3.8/site-packages (from oauth2client<5,>=2.0.1->apache-beam) (0.4.8)\n",
      "Requirement already satisfied: pyasn1-modules>=0.0.5 in /Users/johanjun/opt/anaconda3/lib/python3.8/site-packages (from oauth2client<5,>=2.0.1->apache-beam) (0.2.8)\n",
      "Requirement already satisfied: rsa>=3.1.4 in /Users/johanjun/opt/anaconda3/lib/python3.8/site-packages (from oauth2client<5,>=2.0.1->apache-beam) (4.7.2)\n",
      "Requirement already satisfied: chardet<4,>=3.0.2 in /Users/johanjun/opt/anaconda3/lib/python3.8/site-packages (from requests<3.0.0,>=2.24.0->apache-beam) (3.0.4)\n",
      "Requirement already satisfied: urllib3!=1.25.0,!=1.25.1,<1.26,>=1.21.1 in /Users/johanjun/opt/anaconda3/lib/python3.8/site-packages (from requests<3.0.0,>=2.24.0->apache-beam) (1.25.11)\n",
      "Requirement already satisfied: idna<3,>=2.5 in /Users/johanjun/opt/anaconda3/lib/python3.8/site-packages (from requests<3.0.0,>=2.24.0->apache-beam) (2.10)\n",
      "Requirement already satisfied: certifi>=2017.4.17 in /Users/johanjun/opt/anaconda3/lib/python3.8/site-packages (from requests<3.0.0,>=2.24.0->apache-beam) (2021.5.30)\n"
     ]
    }
   ],
   "source": [
    "!pip install apache-beam"
   ]
  },
  {
   "cell_type": "markdown",
   "metadata": {},
   "source": [
    "# Apache Beam"
   ]
  },
  {
   "cell_type": "code",
   "execution_count": 2,
   "metadata": {
    "ExecuteTime": {
     "end_time": "2021-11-19T04:34:04.287117Z",
     "start_time": "2021-11-19T04:33:56.253153Z"
    }
   },
   "outputs": [
    {
     "name": "stderr",
     "output_type": "stream",
     "text": [
      "WARNING:apache_beam.internal.gcp.auth:Unable to find default credentials to use: The Application Default Credentials are not available. They are available if running in Google Compute Engine. Otherwise, the environment variable GOOGLE_APPLICATION_CREDENTIALS must be defined pointing to a file defining the credentials. See https://developers.google.com/accounts/docs/application-default-credentials for more information.\n",
      "Connecting anonymously.\n",
      "WARNING:apache_beam.options.pipeline_options:Discarding unparseable args: ['-f', '/Users/johanjun/Library/Jupyter/runtime/kernel-04e024f6-c86d-4462-bf10-12a5705dcb9c.json']\n",
      "WARNING:root:Make sure that locally built Python SDK docker image has Python 3.8 interpreter.\n",
      "WARNING:apache_beam.io.filebasedsink:Deleting 1 existing files in target path matching: -*-of-%(num_shards)05d\n"
     ]
    }
   ],
   "source": [
    "import re\n",
    "\n",
    "import apache_beam as beam\n",
    "from apache_beam.io import ReadFromText\n",
    "from apache_beam.io import WriteToText\n",
    "from apache_beam.options.pipeline_options import PipelineOptions\n",
    "from apache_beam.options.pipeline_options import SetupOptions\n",
    "\n",
    "input_file = \"gs://dataflow-samples/shakespeare/kinglear.txt\"\n",
    "output_file = \"/tmp/output.txt\"\n",
    "\n",
    "pipeline_options = PipelineOptions()\n",
    "\n",
    "with beam.Pipeline(options=pipeline_options) as p:\n",
    "    lines = p | ReadFromText(input_file)\n",
    "    \n",
    "    counts =(\n",
    "        lines\n",
    "        | 'Split' >> beam.FlatMap(lambda x: re.findall(r'[A-Za-z\\']+', x))\n",
    "        | 'PairWithOne' >> beam.Map(lambda x: (x, 1))\n",
    "        | 'GroupAndSum' >> beam.CombinePerKey(sum))\n",
    "    \n",
    "    def format_result(word_count):\n",
    "        (word, count) = word_count\n",
    "        return \"{}:{}\".format(word, count)\n",
    "    \n",
    "    output = counts | 'Format' >> beam.Map(format_result)\n",
    "    \n",
    "    output | WriteToText(output_file)"
   ]
  },
  {
   "cell_type": "code",
   "execution_count": 12,
   "metadata": {
    "ExecuteTime": {
     "end_time": "2021-11-17T08:33:49.315041Z",
     "start_time": "2021-11-17T08:33:49.063362Z"
    }
   },
   "outputs": [
    {
     "name": "stdout",
     "output_type": "stream",
     "text": [
      "KING:243\r\n",
      "LEAR:236\r\n",
      "DRAMATIS:1\r\n",
      "PERSONAE:1\r\n",
      "king:65\r\n",
      "of:447\r\n",
      "Britain:2\r\n",
      "OF:15\r\n",
      "FRANCE:10\r\n",
      "DUKE:3\r\n"
     ]
    }
   ],
   "source": [
    "!head /tmp/output.txt*"
   ]
  },
  {
   "cell_type": "code",
   "execution_count": 3,
   "metadata": {
    "ExecuteTime": {
     "end_time": "2021-11-19T04:34:19.755043Z",
     "start_time": "2021-11-19T04:34:19.717813Z"
    }
   },
   "outputs": [
    {
     "name": "stderr",
     "output_type": "stream",
     "text": [
      "WARNING:absl:InteractiveContext pipeline_root argument not provided: using temporary directory /var/folders/8x/m76cd7zx24x2ph3x8k2b2r280000gn/T/tfx-interactive-2021-11-19T13_34_19.720772-g_qav316 as root for pipeline outputs.\n",
      "WARNING:absl:InteractiveContext metadata_connection_config not provided: using SQLite ML Metadata database at /var/folders/8x/m76cd7zx24x2ph3x8k2b2r280000gn/T/tfx-interactive-2021-11-19T13_34_19.720772-g_qav316/metadata.sqlite.\n"
     ]
    },
    {
     "ename": "NameError",
     "evalue": "name '__file__' is not defined",
     "output_type": "error",
     "traceback": [
      "\u001b[0;31m---------------------------------------------------------------------------\u001b[0m",
      "\u001b[0;31mNameError\u001b[0m                                 Traceback (most recent call last)",
      "\u001b[0;32m<ipython-input-3-f8eb47c6f848>\u001b[0m in \u001b[0;36m<module>\u001b[0;34m\u001b[0m\n\u001b[1;32m      6\u001b[0m \u001b[0mcontext\u001b[0m \u001b[0;34m=\u001b[0m \u001b[0mInteractiveContext\u001b[0m\u001b[0;34m(\u001b[0m\u001b[0;34m)\u001b[0m\u001b[0;34m\u001b[0m\u001b[0;34m\u001b[0m\u001b[0m\n\u001b[1;32m      7\u001b[0m \u001b[0;34m\u001b[0m\u001b[0m\n\u001b[0;32m----> 8\u001b[0;31m \u001b[0mdir_path\u001b[0m \u001b[0;34m=\u001b[0m \u001b[0mPath\u001b[0m\u001b[0;34m(\u001b[0m\u001b[0m__file__\u001b[0m\u001b[0;34m)\u001b[0m\u001b[0;34m.\u001b[0m\u001b[0mparent\u001b[0m\u001b[0;34m.\u001b[0m\u001b[0mabsolute\u001b[0m\u001b[0;34m(\u001b[0m\u001b[0;34m)\u001b[0m\u001b[0;34m\u001b[0m\u001b[0;34m\u001b[0m\u001b[0m\n\u001b[0m\u001b[1;32m      9\u001b[0m \u001b[0;34m\u001b[0m\u001b[0m\n\u001b[1;32m     10\u001b[0m \u001b[0;31m# 데이터 경로를 정의합니다.\u001b[0m\u001b[0;34m\u001b[0m\u001b[0;34m\u001b[0m\u001b[0;34m\u001b[0m\u001b[0m\n",
      "\u001b[0;31mNameError\u001b[0m: name '__file__' is not defined"
     ]
    }
   ],
   "source": [
    "import os\n",
    "from pathlib import Path\n",
    "from tfx.components import CsvExampleGen\n",
    "from tfx.orchestration.experimental.interactive.interactive_context import InteractiveContext\n",
    "\n",
    "context = InteractiveContext()\n",
    "\n",
    "dir_path = Path(__file__).parent.absolute()\n",
    "\n",
    "# 데이터 경로를 정의합니다.\n",
    "input_base = os.path.join(dir_path, \"..\", \"..\", \"data\", \"taxi\")\n",
    "# 파이프라인 컴포넌트를 인스턴스화합니다.\n",
    "example_gen = CsvExampleGen(input_base=input_base)\n",
    "# 대화식으로 컴포넌트를 실행합니다.\n",
    "context.run(example_gen)"
   ]
  },
  {
   "cell_type": "code",
   "execution_count": null,
   "metadata": {},
   "outputs": [],
   "source": []
  }
 ],
 "metadata": {
  "kernelspec": {
   "display_name": "Python 3",
   "language": "python",
   "name": "python3"
  },
  "language_info": {
   "codemirror_mode": {
    "name": "ipython",
    "version": 3
   },
   "file_extension": ".py",
   "mimetype": "text/x-python",
   "name": "python",
   "nbconvert_exporter": "python",
   "pygments_lexer": "ipython3",
   "version": "3.8.5"
  },
  "toc": {
   "base_numbering": 1,
   "nav_menu": {},
   "number_sections": true,
   "sideBar": true,
   "skip_h1_title": false,
   "title_cell": "Table of Contents",
   "title_sidebar": "Contents",
   "toc_cell": false,
   "toc_position": {},
   "toc_section_display": true,
   "toc_window_display": false
  },
  "varInspector": {
   "cols": {
    "lenName": 16,
    "lenType": 16,
    "lenVar": 40
   },
   "kernels_config": {
    "python": {
     "delete_cmd_postfix": "",
     "delete_cmd_prefix": "del ",
     "library": "var_list.py",
     "varRefreshCmd": "print(var_dic_list())"
    },
    "r": {
     "delete_cmd_postfix": ") ",
     "delete_cmd_prefix": "rm(",
     "library": "var_list.r",
     "varRefreshCmd": "cat(var_dic_list()) "
    }
   },
   "types_to_exclude": [
    "module",
    "function",
    "builtin_function_or_method",
    "instance",
    "_Feature"
   ],
   "window_display": false
  }
 },
 "nbformat": 4,
 "nbformat_minor": 4
}
